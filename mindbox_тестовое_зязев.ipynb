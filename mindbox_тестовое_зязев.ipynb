{
 "cells": [
  {
   "cell_type": "code",
   "execution_count": 31,
   "metadata": {},
   "outputs": [],
   "source": [
    "import pandas as pd\n",
    "import random"
   ]
  },
  {
   "cell_type": "code",
   "execution_count": 64,
   "metadata": {},
   "outputs": [],
   "source": [
    "def fun1(n_customers):\n",
    "    person = [i for i in range(n_customers)]\n",
    "    group = [sum(map(int,str(i))) for i in person]\n",
    "    data = pd.DataFrame()\n",
    "    data['person'] = pd.Series(person)\n",
    "    data['group'] = pd.Series(group)\n",
    "    print(data.groupby('group').count())"
   ]
  },
  {
   "cell_type": "code",
   "execution_count": 63,
   "metadata": {},
   "outputs": [],
   "source": [
    "def fun2(n_customers,n_first_id):\n",
    "    person = [i for i in range(n_first_id,n_first_id + n_customers)]\n",
    "    group = [sum(map(int,str(i))) for i in person]\n",
    "    data = pd.DataFrame()\n",
    "    data['person'] = pd.Series(person)\n",
    "    data['group'] = pd.Series(group)\n",
    "    print(data.groupby('group').count())"
   ]
  },
  {
   "cell_type": "code",
   "execution_count": 66,
   "metadata": {},
   "outputs": [
    {
     "name": "stdout",
     "output_type": "stream",
     "text": [
      "       person\n",
      "group        \n",
      "0           1\n",
      "1           3\n",
      "2           6\n",
      "3          10\n",
      "4          15\n",
      "5          20\n",
      "6          25\n",
      "7          30\n",
      "8          35\n",
      "9          40\n",
      "10         42\n",
      "11         42\n",
      "12         40\n",
      "13         36\n",
      "14         31\n",
      "15         25\n",
      "16         20\n",
      "17         15\n",
      "18         10\n",
      "19          6\n",
      "20          3\n",
      "21          1\n"
     ]
    }
   ],
   "source": [
    "fun1(456)"
   ]
  },
  {
   "cell_type": "code",
   "execution_count": 67,
   "metadata": {},
   "outputs": [
    {
     "name": "stdout",
     "output_type": "stream",
     "text": [
      "       person\n",
      "group        \n",
      "1           1\n",
      "2           3\n",
      "3           6\n",
      "4          10\n",
      "5          15\n",
      "6          20\n",
      "7          26\n",
      "8          31\n",
      "9          36\n",
      "10         39\n",
      "11         41\n",
      "12         41\n",
      "13         40\n",
      "14         36\n",
      "15         31\n",
      "16         25\n",
      "17         20\n",
      "18         15\n",
      "19         10\n",
      "20          6\n",
      "21          3\n",
      "22          1\n"
     ]
    }
   ],
   "source": [
    "fun2(456,67)"
   ]
  }
 ],
 "metadata": {
  "kernelspec": {
   "display_name": "Python 3",
   "language": "python",
   "name": "python3"
  },
  "language_info": {
   "codemirror_mode": {
    "name": "ipython",
    "version": 3
   },
   "file_extension": ".py",
   "mimetype": "text/x-python",
   "name": "python",
   "nbconvert_exporter": "python",
   "pygments_lexer": "ipython3",
   "version": "3.8.6"
  }
 },
 "nbformat": 4,
 "nbformat_minor": 4
}
